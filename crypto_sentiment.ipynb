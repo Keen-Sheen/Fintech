{
 "cells": [
  {
   "cell_type": "markdown",
   "metadata": {},
   "source": [
    "# Unit 12 - Tales from the Crypto\n",
    "\n",
    "---\n"
   ]
  },
  {
   "cell_type": "markdown",
   "metadata": {},
   "source": [
    "## 1. Sentiment Analysis\n",
    "\n",
    "Use the [newsapi](https://newsapi.org/) to pull the latest news articles for Bitcoin and Ethereum and create a DataFrame of sentiment scores for each coin.\n",
    "\n",
    "Use descriptive statistics to answer the following questions:\n",
    "1. Which coin had the highest mean positive score?\n",
    "2. Which coin had the highest negative score?\n",
    "3. Which coin had the highest positive score?"
   ]
  },
  {
   "cell_type": "code",
   "execution_count": 26,
   "metadata": {},
   "outputs": [
    {
     "name": "stdout",
     "output_type": "stream",
     "text": [
      "Requirement already satisfied: nltk in c:\\users\\rlkee\\anaconda3\\lib\\site-packages (3.6.1)\n",
      "Requirement already satisfied: regex in c:\\users\\rlkee\\anaconda3\\lib\\site-packages (from nltk) (2021.4.4)\n",
      "Requirement already satisfied: joblib in c:\\users\\rlkee\\anaconda3\\lib\\site-packages (from nltk) (1.0.1)\n",
      "Requirement already satisfied: click in c:\\users\\rlkee\\anaconda3\\lib\\site-packages (from nltk) (7.1.2)\n",
      "Requirement already satisfied: tqdm in c:\\users\\rlkee\\anaconda3\\lib\\site-packages (from nltk) (4.59.0)\n"
     ]
    }
   ],
   "source": [
    "!pip3 install nltk"
   ]
  },
  {
   "cell_type": "code",
   "execution_count": 27,
   "metadata": {},
   "outputs": [
    {
     "name": "stderr",
     "output_type": "stream",
     "text": [
      "[nltk_data] Downloading package vader_lexicon to\n",
      "[nltk_data]     C:\\Users\\rlkee\\AppData\\Roaming\\nltk_data...\n",
      "[nltk_data]   Package vader_lexicon is already up-to-date!\n"
     ]
    }
   ],
   "source": [
    "# Initial imports\n",
    "import os\n",
    "import pandas as pd\n",
    "from dotenv import load_dotenv\n",
    "from newsapi import NewsApiClient\n",
    "import nltk as nltk\n",
    "nltk.download('vader_lexicon')\n",
    "from nltk.sentiment.vader import SentimentIntensityAnalyzer\n",
    "analyzer = SentimentIntensityAnalyzer()\n",
    "\n",
    "%matplotlib inline"
   ]
  },
  {
   "cell_type": "code",
   "execution_count": 28,
   "metadata": {},
   "outputs": [
    {
     "data": {
      "text/plain": [
       "True"
      ]
     },
     "execution_count": 28,
     "metadata": {},
     "output_type": "execute_result"
    }
   ],
   "source": [
    "# Read your api key environment variable\n",
    "# Load environment variables \n",
    "load_dotenv()\n"
   ]
  },
  {
   "cell_type": "code",
   "execution_count": 29,
   "metadata": {},
   "outputs": [],
   "source": [
    "api_key = os.getenv(\"NEWS_API\")\n",
    "newsapi = NewsApiClient(api_key=\"70f4b1a8cfea46418e734d354b103dbe\")"
   ]
  },
  {
   "cell_type": "code",
   "execution_count": 30,
   "metadata": {},
   "outputs": [
    {
     "name": "stdout",
     "output_type": "stream",
     "text": [
      "Total articles about btc: 7788\n"
     ]
    },
    {
     "data": {
      "text/plain": [
       "{'source': {'id': None, 'name': 'Blogspot.com'},\n",
       " 'author': 'noreply@blogger.com (Unknown)',\n",
       " 'title': \"Elon Musk reveals who bitcoin's creator Satoshi Nakamoto might be\",\n",
       " 'description': 'Musk.MARK RALSTON/AFP via Getty Images\\r\\nElon Musk seems to agree with many that hyper-secret cryptocurrency expert Nick Szabo could be Satoshi Nakamoto, the mysterious creator of the digital currency Bitcoin.\\xa0\"You can watch ideas evolve before Bitcoin was lau…',\n",
       " 'url': 'https://techncruncher.blogspot.com/2021/12/elon-musk-reveals-who-bitcoins-creator.html',\n",
       " 'urlToImage': 'https://blogger.googleusercontent.com/img/a/AVvXsEik_48hPzMzsDzwfdUeHj4jNGqYGevEuVjTTPkAGTu9bRN3oePxV6bxF897GK8Az3AaSqUOalYXNG4HSCy0fW5KUHuruCWP8hAfZxgrgbzh-dsbLM9jxyFGCthOZdBCa1dNkqk6mrVl0VtflsV2VvKXfGnwL6-68m-mxp7qHJuLlvqGIahZ9YDe5mt97w=w1200-h630-p-k-no-nu',\n",
       " 'publishedAt': '2021-12-29T20:41:00Z',\n",
       " 'content': 'Musk.MARK RALSTON/AFP via Getty Images\\r\\nElon Musk seems to agree with many that hyper-secret cryptocurrency expert Nick Szabo could be Satoshi Nakamoto, the mysterious creator of the digital currency… [+1467 chars]'}"
      ]
     },
     "execution_count": 30,
     "metadata": {},
     "output_type": "execute_result"
    }
   ],
   "source": [
    "# Fetch the Bitcoin news articles\n",
    "btc_headlines = newsapi.get_everything(\n",
    "    q=\"bitcoin\",\n",
    "    language=\"en\",\n",
    "    sort_by=\"relevancy\"\n",
    ")\n",
    "\n",
    "print(f\"Total articles about btc: {btc_headlines['totalResults']}\")\n",
    "\n",
    "# Show sample article\n",
    "btc_headlines[\"articles\"][0]\n"
   ]
  },
  {
   "cell_type": "code",
   "execution_count": 31,
   "metadata": {
    "tags": []
   },
   "outputs": [
    {
     "name": "stdout",
     "output_type": "stream",
     "text": [
      "Total articles about eth: 3547\n"
     ]
    },
    {
     "data": {
      "text/plain": [
       "{'source': {'id': 'the-verge', 'name': 'The Verge'},\n",
       " 'author': 'Corin Faife',\n",
       " 'title': 'Crypto.com admits over $30 million stolen by hackers',\n",
       " 'description': 'Cryptocurrency exchange Crypto.com has said that $15 million in ethereum and $18 million in bitcoin were stolen by hackers in a security breach',\n",
       " 'url': 'https://www.theverge.com/2022/1/20/22892958/crypto-com-exchange-hack-bitcoin-ethereum-security',\n",
       " 'urlToImage': 'https://cdn.vox-cdn.com/thumbor/mde_l3lUC4muDPEFG7LYrUz0O3g=/0x146:2040x1214/fit-in/1200x630/cdn.vox-cdn.com/uploads/chorus_asset/file/8921023/acastro_bitcoin_2.jpg',\n",
       " 'publishedAt': '2022-01-20T13:23:31Z',\n",
       " 'content': 'In a new blog post the company said that 4,836 ETH and 443 bitcoin were taken\\r\\nIllustration by Alex Castro / The Verge\\r\\nIn a blog post published in the early hours of Thursday morning, cryptocurrency… [+2004 chars]'}"
      ]
     },
     "execution_count": 31,
     "metadata": {},
     "output_type": "execute_result"
    }
   ],
   "source": [
    "# Fetch the Ethereum news articles\n",
    "eth_headlines = newsapi.get_everything(\n",
    "    q=\"Ethereum\",\n",
    "    language=\"en\",\n",
    "    page_size=100,\n",
    "    sort_by=\"relevancy\"\n",
    ")\n",
    "\n",
    "# Print total articles\n",
    "print(f\"Total articles about eth: {eth_headlines['totalResults']}\")\n",
    "\n",
    "# Show sample article\n",
    "eth_headlines[\"articles\"][0]\n"
   ]
  },
  {
   "cell_type": "code",
   "execution_count": 32,
   "metadata": {},
   "outputs": [
    {
     "data": {
      "text/html": [
       "<div>\n",
       "<style scoped>\n",
       "    .dataframe tbody tr th:only-of-type {\n",
       "        vertical-align: middle;\n",
       "    }\n",
       "\n",
       "    .dataframe tbody tr th {\n",
       "        vertical-align: top;\n",
       "    }\n",
       "\n",
       "    .dataframe thead th {\n",
       "        text-align: right;\n",
       "    }\n",
       "</style>\n",
       "<table border=\"1\" class=\"dataframe\">\n",
       "  <thead>\n",
       "    <tr style=\"text-align: right;\">\n",
       "      <th></th>\n",
       "      <th>date</th>\n",
       "      <th>text</th>\n",
       "      <th>compound</th>\n",
       "      <th>positive</th>\n",
       "      <th>negative</th>\n",
       "      <th>neutral</th>\n",
       "    </tr>\n",
       "  </thead>\n",
       "  <tbody>\n",
       "    <tr>\n",
       "      <th>0</th>\n",
       "      <td>2021-12-29</td>\n",
       "      <td>Musk.MARK RALSTON/AFP via Getty Images\\r\\nElon...</td>\n",
       "      <td>0.3612</td>\n",
       "      <td>0.077</td>\n",
       "      <td>0.000</td>\n",
       "      <td>0.923</td>\n",
       "    </tr>\n",
       "    <tr>\n",
       "      <th>1</th>\n",
       "      <td>2022-01-12</td>\n",
       "      <td>When Denis Rusinovich set up cryptocurrency mi...</td>\n",
       "      <td>0.0000</td>\n",
       "      <td>0.000</td>\n",
       "      <td>0.000</td>\n",
       "      <td>1.000</td>\n",
       "    </tr>\n",
       "    <tr>\n",
       "      <th>2</th>\n",
       "      <td>2022-01-25</td>\n",
       "      <td>El Salvador introduced Bitcoin as a legal tend...</td>\n",
       "      <td>0.3182</td>\n",
       "      <td>0.105</td>\n",
       "      <td>0.000</td>\n",
       "      <td>0.895</td>\n",
       "    </tr>\n",
       "    <tr>\n",
       "      <th>3</th>\n",
       "      <td>2022-01-14</td>\n",
       "      <td>Were officially building an open Bitcoin minin...</td>\n",
       "      <td>-0.4404</td>\n",
       "      <td>0.000</td>\n",
       "      <td>0.083</td>\n",
       "      <td>0.917</td>\n",
       "    </tr>\n",
       "    <tr>\n",
       "      <th>4</th>\n",
       "      <td>2022-01-27</td>\n",
       "      <td>Israeli national Tal Prihar pled guilty to rou...</td>\n",
       "      <td>-0.3182</td>\n",
       "      <td>0.045</td>\n",
       "      <td>0.084</td>\n",
       "      <td>0.871</td>\n",
       "    </tr>\n",
       "  </tbody>\n",
       "</table>\n",
       "</div>"
      ],
      "text/plain": [
       "         date                                               text  compound  \\\n",
       "0  2021-12-29  Musk.MARK RALSTON/AFP via Getty Images\\r\\nElon...    0.3612   \n",
       "1  2022-01-12  When Denis Rusinovich set up cryptocurrency mi...    0.0000   \n",
       "2  2022-01-25  El Salvador introduced Bitcoin as a legal tend...    0.3182   \n",
       "3  2022-01-14  Were officially building an open Bitcoin minin...   -0.4404   \n",
       "4  2022-01-27  Israeli national Tal Prihar pled guilty to rou...   -0.3182   \n",
       "\n",
       "   positive  negative  neutral  \n",
       "0     0.077     0.000    0.923  \n",
       "1     0.000     0.000    1.000  \n",
       "2     0.105     0.000    0.895  \n",
       "3     0.000     0.083    0.917  \n",
       "4     0.045     0.084    0.871  "
      ]
     },
     "execution_count": 32,
     "metadata": {},
     "output_type": "execute_result"
    }
   ],
   "source": [
    "# Create the Bitcoin sentiment scores DataFrame\n",
    "btc_sentiments = []\n",
    "\n",
    "for article in btc_headlines[\"articles\"]:\n",
    "    try:\n",
    "        text = article[\"content\"]\n",
    "        date = article[\"publishedAt\"][:10]\n",
    "        sentiment = analyzer.polarity_scores(text)\n",
    "        compound = sentiment[\"compound\"]\n",
    "        pos = sentiment[\"pos\"]\n",
    "        neu = sentiment[\"neu\"]\n",
    "        neg = sentiment[\"neg\"]\n",
    "        \n",
    "        btc_sentiments.append({\n",
    "            \"text\": text,\n",
    "            \"date\": date,\n",
    "            \"compound\": compound,\n",
    "            \"positive\": pos,\n",
    "            \"negative\": neg,\n",
    "            \"neutral\": neu\n",
    "            \n",
    "        })\n",
    "        \n",
    "    except AttributeError:\n",
    "        pass\n",
    "    \n",
    "# Create DataFrame\n",
    "btc_df = pd.DataFrame(btc_sentiments)\n",
    "\n",
    "# Reorder DataFrame columns\n",
    "cols = [\"date\", \"text\", \"compound\", \"positive\", \"negative\", \"neutral\"]\n",
    "btc_df = btc_df[cols]\n",
    "\n",
    "btc_df.head()\n",
    "\n"
   ]
  },
  {
   "cell_type": "code",
   "execution_count": 33,
   "metadata": {},
   "outputs": [
    {
     "data": {
      "text/html": [
       "<div>\n",
       "<style scoped>\n",
       "    .dataframe tbody tr th:only-of-type {\n",
       "        vertical-align: middle;\n",
       "    }\n",
       "\n",
       "    .dataframe tbody tr th {\n",
       "        vertical-align: top;\n",
       "    }\n",
       "\n",
       "    .dataframe thead th {\n",
       "        text-align: right;\n",
       "    }\n",
       "</style>\n",
       "<table border=\"1\" class=\"dataframe\">\n",
       "  <thead>\n",
       "    <tr style=\"text-align: right;\">\n",
       "      <th></th>\n",
       "      <th>source</th>\n",
       "      <th>author</th>\n",
       "      <th>title</th>\n",
       "      <th>description</th>\n",
       "      <th>url</th>\n",
       "      <th>urlToImage</th>\n",
       "      <th>publishedAt</th>\n",
       "      <th>content</th>\n",
       "    </tr>\n",
       "  </thead>\n",
       "  <tbody>\n",
       "    <tr>\n",
       "      <th>0</th>\n",
       "      <td>{'id': None, 'name': 'Blogspot.com'}</td>\n",
       "      <td>noreply@blogger.com (Unknown)</td>\n",
       "      <td>Elon Musk reveals who bitcoin's creator Satosh...</td>\n",
       "      <td>Musk.MARK RALSTON/AFP via Getty Images\\r\\nElon...</td>\n",
       "      <td>https://techncruncher.blogspot.com/2021/12/elo...</td>\n",
       "      <td>https://blogger.googleusercontent.com/img/a/AV...</td>\n",
       "      <td>2021-12-29T20:41:00Z</td>\n",
       "      <td>Musk.MARK RALSTON/AFP via Getty Images\\r\\nElon...</td>\n",
       "    </tr>\n",
       "    <tr>\n",
       "      <th>1</th>\n",
       "      <td>{'id': 'wired', 'name': 'Wired'}</td>\n",
       "      <td>Gian M. Volpicelli</td>\n",
       "      <td>As Kazakhstan Descends into Chaos, Crypto Mine...</td>\n",
       "      <td>The central Asian country became No. 2 in the ...</td>\n",
       "      <td>https://www.wired.com/story/kazakhstan-cryptoc...</td>\n",
       "      <td>https://media.wired.com/photos/61de2d453e654a1...</td>\n",
       "      <td>2022-01-12T12:00:00Z</td>\n",
       "      <td>When Denis Rusinovich set up cryptocurrency mi...</td>\n",
       "    </tr>\n",
       "    <tr>\n",
       "      <th>2</th>\n",
       "      <td>{'id': 'the-verge', 'name': 'The Verge'}</td>\n",
       "      <td>Mitchell Clark</td>\n",
       "      <td>The International Monetary Fund tells El Salva...</td>\n",
       "      <td>The International Monetary Fund’s executive di...</td>\n",
       "      <td>https://www.theverge.com/2022/1/25/22901374/el...</td>\n",
       "      <td>https://cdn.vox-cdn.com/thumbor/altkKN7BnaLUpb...</td>\n",
       "      <td>2022-01-25T22:11:14Z</td>\n",
       "      <td>El Salvador introduced Bitcoin as a legal tend...</td>\n",
       "    </tr>\n",
       "    <tr>\n",
       "      <th>3</th>\n",
       "      <td>{'id': 'the-verge', 'name': 'The Verge'}</td>\n",
       "      <td>Jon Porter</td>\n",
       "      <td>Jack Dorsey’s Block is working to make Bitcoin...</td>\n",
       "      <td>Block is working on building an “open Bitcoin ...</td>\n",
       "      <td>https://www.theverge.com/2022/1/14/22883500/ja...</td>\n",
       "      <td>https://cdn.vox-cdn.com/thumbor/NE548fVufAlHoB...</td>\n",
       "      <td>2022-01-14T13:46:28Z</td>\n",
       "      <td>Were officially building an open Bitcoin minin...</td>\n",
       "    </tr>\n",
       "    <tr>\n",
       "      <th>4</th>\n",
       "      <td>{'id': 'the-verge', 'name': 'The Verge'}</td>\n",
       "      <td>Corin Faife</td>\n",
       "      <td>DeepDotWeb operator sentenced to eight years f...</td>\n",
       "      <td>The operator of DeepDotWeb, a site that indexe...</td>\n",
       "      <td>https://www.theverge.com/2022/1/27/22904803/de...</td>\n",
       "      <td>https://cdn.vox-cdn.com/thumbor/mde_l3lUC4muDP...</td>\n",
       "      <td>2022-01-27T18:16:57Z</td>\n",
       "      <td>Israeli national Tal Prihar pled guilty to rou...</td>\n",
       "    </tr>\n",
       "  </tbody>\n",
       "</table>\n",
       "</div>"
      ],
      "text/plain": [
       "                                     source                         author  \\\n",
       "0      {'id': None, 'name': 'Blogspot.com'}  noreply@blogger.com (Unknown)   \n",
       "1          {'id': 'wired', 'name': 'Wired'}             Gian M. Volpicelli   \n",
       "2  {'id': 'the-verge', 'name': 'The Verge'}                 Mitchell Clark   \n",
       "3  {'id': 'the-verge', 'name': 'The Verge'}                     Jon Porter   \n",
       "4  {'id': 'the-verge', 'name': 'The Verge'}                    Corin Faife   \n",
       "\n",
       "                                               title  \\\n",
       "0  Elon Musk reveals who bitcoin's creator Satosh...   \n",
       "1  As Kazakhstan Descends into Chaos, Crypto Mine...   \n",
       "2  The International Monetary Fund tells El Salva...   \n",
       "3  Jack Dorsey’s Block is working to make Bitcoin...   \n",
       "4  DeepDotWeb operator sentenced to eight years f...   \n",
       "\n",
       "                                         description  \\\n",
       "0  Musk.MARK RALSTON/AFP via Getty Images\\r\\nElon...   \n",
       "1  The central Asian country became No. 2 in the ...   \n",
       "2  The International Monetary Fund’s executive di...   \n",
       "3  Block is working on building an “open Bitcoin ...   \n",
       "4  The operator of DeepDotWeb, a site that indexe...   \n",
       "\n",
       "                                                 url  \\\n",
       "0  https://techncruncher.blogspot.com/2021/12/elo...   \n",
       "1  https://www.wired.com/story/kazakhstan-cryptoc...   \n",
       "2  https://www.theverge.com/2022/1/25/22901374/el...   \n",
       "3  https://www.theverge.com/2022/1/14/22883500/ja...   \n",
       "4  https://www.theverge.com/2022/1/27/22904803/de...   \n",
       "\n",
       "                                          urlToImage           publishedAt  \\\n",
       "0  https://blogger.googleusercontent.com/img/a/AV...  2021-12-29T20:41:00Z   \n",
       "1  https://media.wired.com/photos/61de2d453e654a1...  2022-01-12T12:00:00Z   \n",
       "2  https://cdn.vox-cdn.com/thumbor/altkKN7BnaLUpb...  2022-01-25T22:11:14Z   \n",
       "3  https://cdn.vox-cdn.com/thumbor/NE548fVufAlHoB...  2022-01-14T13:46:28Z   \n",
       "4  https://cdn.vox-cdn.com/thumbor/mde_l3lUC4muDP...  2022-01-27T18:16:57Z   \n",
       "\n",
       "                                             content  \n",
       "0  Musk.MARK RALSTON/AFP via Getty Images\\r\\nElon...  \n",
       "1  When Denis Rusinovich set up cryptocurrency mi...  \n",
       "2  El Salvador introduced Bitcoin as a legal tend...  \n",
       "3  Were officially building an open Bitcoin minin...  \n",
       "4  Israeli national Tal Prihar pled guilty to rou...  "
      ]
     },
     "execution_count": 33,
     "metadata": {},
     "output_type": "execute_result"
    }
   ],
   "source": [
    "# Create the Bitcoin sentiment scores DataFrame\n",
    "btc_df = pd.DataFrame.from_dict(btc_headlines[\"articles\"])\n",
    "\n",
    "btc_df.head()"
   ]
  },
  {
   "cell_type": "code",
   "execution_count": 34,
   "metadata": {},
   "outputs": [
    {
     "data": {
      "text/html": [
       "<div>\n",
       "<style scoped>\n",
       "    .dataframe tbody tr th:only-of-type {\n",
       "        vertical-align: middle;\n",
       "    }\n",
       "\n",
       "    .dataframe tbody tr th {\n",
       "        vertical-align: top;\n",
       "    }\n",
       "\n",
       "    .dataframe thead th {\n",
       "        text-align: right;\n",
       "    }\n",
       "</style>\n",
       "<table border=\"1\" class=\"dataframe\">\n",
       "  <thead>\n",
       "    <tr style=\"text-align: right;\">\n",
       "      <th></th>\n",
       "      <th>date</th>\n",
       "      <th>text</th>\n",
       "      <th>compound</th>\n",
       "      <th>positive</th>\n",
       "      <th>negative</th>\n",
       "      <th>neutral</th>\n",
       "    </tr>\n",
       "  </thead>\n",
       "  <tbody>\n",
       "    <tr>\n",
       "      <th>0</th>\n",
       "      <td>2022-01-20</td>\n",
       "      <td>In a new blog post the company said that 4,836...</td>\n",
       "      <td>0.0000</td>\n",
       "      <td>0.000</td>\n",
       "      <td>0.000</td>\n",
       "      <td>1.000</td>\n",
       "    </tr>\n",
       "    <tr>\n",
       "      <th>1</th>\n",
       "      <td>2022-01-19</td>\n",
       "      <td>Hackers who made off with roughly $15 million ...</td>\n",
       "      <td>0.0000</td>\n",
       "      <td>0.000</td>\n",
       "      <td>0.000</td>\n",
       "      <td>1.000</td>\n",
       "    </tr>\n",
       "    <tr>\n",
       "      <th>2</th>\n",
       "      <td>2022-01-20</td>\n",
       "      <td>On some level, the new mayor is simply employi...</td>\n",
       "      <td>0.1779</td>\n",
       "      <td>0.052</td>\n",
       "      <td>0.000</td>\n",
       "      <td>0.948</td>\n",
       "    </tr>\n",
       "    <tr>\n",
       "      <th>3</th>\n",
       "      <td>2022-01-21</td>\n",
       "      <td>Back in September\\r\\n, Robinhood announced pla...</td>\n",
       "      <td>0.0772</td>\n",
       "      <td>0.038</td>\n",
       "      <td>0.000</td>\n",
       "      <td>0.962</td>\n",
       "    </tr>\n",
       "    <tr>\n",
       "      <th>4</th>\n",
       "      <td>2022-01-20</td>\n",
       "      <td>Trading platform Crypto.com lost about $34 mil...</td>\n",
       "      <td>-0.1027</td>\n",
       "      <td>0.056</td>\n",
       "      <td>0.067</td>\n",
       "      <td>0.877</td>\n",
       "    </tr>\n",
       "  </tbody>\n",
       "</table>\n",
       "</div>"
      ],
      "text/plain": [
       "         date                                               text  compound  \\\n",
       "0  2022-01-20  In a new blog post the company said that 4,836...    0.0000   \n",
       "1  2022-01-19  Hackers who made off with roughly $15 million ...    0.0000   \n",
       "2  2022-01-20  On some level, the new mayor is simply employi...    0.1779   \n",
       "3  2022-01-21  Back in September\\r\\n, Robinhood announced pla...    0.0772   \n",
       "4  2022-01-20  Trading platform Crypto.com lost about $34 mil...   -0.1027   \n",
       "\n",
       "   positive  negative  neutral  \n",
       "0     0.000     0.000    1.000  \n",
       "1     0.000     0.000    1.000  \n",
       "2     0.052     0.000    0.948  \n",
       "3     0.038     0.000    0.962  \n",
       "4     0.056     0.067    0.877  "
      ]
     },
     "execution_count": 34,
     "metadata": {},
     "output_type": "execute_result"
    }
   ],
   "source": [
    "# Create the Ethereum sentiment scores DataFrame\n",
    "eth_sentiments = []\n",
    "\n",
    "for article in eth_headlines[\"articles\"]:\n",
    "    try:\n",
    "        text = article[\"content\"]\n",
    "        date = article[\"publishedAt\"][:10]\n",
    "        sentiment = analyzer.polarity_scores(text)\n",
    "        compound = sentiment[\"compound\"]\n",
    "        pos = sentiment[\"pos\"]\n",
    "        neu = sentiment[\"neu\"]\n",
    "        neg = sentiment[\"neg\"]\n",
    "        \n",
    "        eth_sentiments.append({\n",
    "            \"text\": text,\n",
    "            \"date\": date,\n",
    "            \"compound\": compound,\n",
    "            \"positive\": pos,\n",
    "            \"negative\": neg,\n",
    "            \"neutral\": neu\n",
    "            \n",
    "        })\n",
    "        \n",
    "    except AttributeError:\n",
    "        pass\n",
    "    \n",
    "# Create DataFrame\n",
    "eth_df = pd.DataFrame(eth_sentiments)\n",
    "\n",
    "# Reorder DataFrame columns\n",
    "cols = [\"date\", \"text\", \"compound\", \"positive\", \"negative\", \"neutral\"]\n",
    "eth_df = eth_df[cols]\n",
    "\n",
    "eth_df.head()\n"
   ]
  },
  {
   "cell_type": "code",
   "execution_count": 45,
   "metadata": {},
   "outputs": [
    {
     "data": {
      "text/html": [
       "<div>\n",
       "<style scoped>\n",
       "    .dataframe tbody tr th:only-of-type {\n",
       "        vertical-align: middle;\n",
       "    }\n",
       "\n",
       "    .dataframe tbody tr th {\n",
       "        vertical-align: top;\n",
       "    }\n",
       "\n",
       "    .dataframe thead th {\n",
       "        text-align: right;\n",
       "    }\n",
       "</style>\n",
       "<table border=\"1\" class=\"dataframe\">\n",
       "  <thead>\n",
       "    <tr style=\"text-align: right;\">\n",
       "      <th></th>\n",
       "      <th>source</th>\n",
       "      <th>author</th>\n",
       "      <th>title</th>\n",
       "      <th>description</th>\n",
       "      <th>url</th>\n",
       "      <th>urlToImage</th>\n",
       "      <th>publishedAt</th>\n",
       "      <th>content</th>\n",
       "    </tr>\n",
       "  </thead>\n",
       "  <tbody>\n",
       "    <tr>\n",
       "      <th>0</th>\n",
       "      <td>{'id': 'the-verge', 'name': 'The Verge'}</td>\n",
       "      <td>Corin Faife</td>\n",
       "      <td>Crypto.com admits over $30 million stolen by h...</td>\n",
       "      <td>Cryptocurrency exchange Crypto.com has said th...</td>\n",
       "      <td>https://www.theverge.com/2022/1/20/22892958/cr...</td>\n",
       "      <td>https://cdn.vox-cdn.com/thumbor/mde_l3lUC4muDP...</td>\n",
       "      <td>2022-01-20T13:23:31Z</td>\n",
       "      <td>In a new blog post the company said that 4,836...</td>\n",
       "    </tr>\n",
       "    <tr>\n",
       "      <th>1</th>\n",
       "      <td>{'id': None, 'name': 'Gizmodo.com'}</td>\n",
       "      <td>Matt Novak</td>\n",
       "      <td>Hackers Launder $15 Million Stolen From Crypto...</td>\n",
       "      <td>Hackers who made off with roughly $15 million ...</td>\n",
       "      <td>https://gizmodo.com/hackers-launder-15-million...</td>\n",
       "      <td>https://i.kinja-img.com/gawker-media/image/upl...</td>\n",
       "      <td>2022-01-19T12:00:00Z</td>\n",
       "      <td>Hackers who made off with roughly $15 million ...</td>\n",
       "    </tr>\n",
       "    <tr>\n",
       "      <th>2</th>\n",
       "      <td>{'id': None, 'name': 'New York Times'}</td>\n",
       "      <td>Dana Rubinstein, Jonah E. Bromwich and Jeffery...</td>\n",
       "      <td>Eric Adams Is Taking His First Paycheck in Crypto</td>\n",
       "      <td>Mr. Adams, who wants New York City to become t...</td>\n",
       "      <td>https://www.nytimes.com/2022/01/20/nyregion/er...</td>\n",
       "      <td>https://static01.nyt.com/images/2022/01/20/nyr...</td>\n",
       "      <td>2022-01-20T19:54:48Z</td>\n",
       "      <td>On some level, the new mayor is simply employi...</td>\n",
       "    </tr>\n",
       "    <tr>\n",
       "      <th>3</th>\n",
       "      <td>{'id': 'engadget', 'name': 'Engadget'}</td>\n",
       "      <td>Igor Bonifacic</td>\n",
       "      <td>Robinhood opens cryptocurrency wallet to beta ...</td>\n",
       "      <td>Back in September\\r\\n, Robinhood announced pla...</td>\n",
       "      <td>https://www.engadget.com/robinhood-cryptocurre...</td>\n",
       "      <td>https://s.yimg.com/os/creatr-uploaded-images/2...</td>\n",
       "      <td>2022-01-21T22:57:21Z</td>\n",
       "      <td>Back in September\\r\\n, Robinhood announced pla...</td>\n",
       "    </tr>\n",
       "    <tr>\n",
       "      <th>4</th>\n",
       "      <td>{'id': None, 'name': 'Gizmodo.com'}</td>\n",
       "      <td>Matt Novak</td>\n",
       "      <td>Crypto.com Finally Acknowledges $34 Million St...</td>\n",
       "      <td>Trading platform Crypto.com lost about $34 mil...</td>\n",
       "      <td>https://gizmodo.com/crypto-com-finally-acknowl...</td>\n",
       "      <td>https://i.kinja-img.com/gawker-media/image/upl...</td>\n",
       "      <td>2022-01-20T12:00:00Z</td>\n",
       "      <td>Trading platform Crypto.com lost about $34 mil...</td>\n",
       "    </tr>\n",
       "  </tbody>\n",
       "</table>\n",
       "</div>"
      ],
      "text/plain": [
       "                                     source  \\\n",
       "0  {'id': 'the-verge', 'name': 'The Verge'}   \n",
       "1       {'id': None, 'name': 'Gizmodo.com'}   \n",
       "2    {'id': None, 'name': 'New York Times'}   \n",
       "3    {'id': 'engadget', 'name': 'Engadget'}   \n",
       "4       {'id': None, 'name': 'Gizmodo.com'}   \n",
       "\n",
       "                                              author  \\\n",
       "0                                        Corin Faife   \n",
       "1                                         Matt Novak   \n",
       "2  Dana Rubinstein, Jonah E. Bromwich and Jeffery...   \n",
       "3                                     Igor Bonifacic   \n",
       "4                                         Matt Novak   \n",
       "\n",
       "                                               title  \\\n",
       "0  Crypto.com admits over $30 million stolen by h...   \n",
       "1  Hackers Launder $15 Million Stolen From Crypto...   \n",
       "2  Eric Adams Is Taking His First Paycheck in Crypto   \n",
       "3  Robinhood opens cryptocurrency wallet to beta ...   \n",
       "4  Crypto.com Finally Acknowledges $34 Million St...   \n",
       "\n",
       "                                         description  \\\n",
       "0  Cryptocurrency exchange Crypto.com has said th...   \n",
       "1  Hackers who made off with roughly $15 million ...   \n",
       "2  Mr. Adams, who wants New York City to become t...   \n",
       "3  Back in September\\r\\n, Robinhood announced pla...   \n",
       "4  Trading platform Crypto.com lost about $34 mil...   \n",
       "\n",
       "                                                 url  \\\n",
       "0  https://www.theverge.com/2022/1/20/22892958/cr...   \n",
       "1  https://gizmodo.com/hackers-launder-15-million...   \n",
       "2  https://www.nytimes.com/2022/01/20/nyregion/er...   \n",
       "3  https://www.engadget.com/robinhood-cryptocurre...   \n",
       "4  https://gizmodo.com/crypto-com-finally-acknowl...   \n",
       "\n",
       "                                          urlToImage           publishedAt  \\\n",
       "0  https://cdn.vox-cdn.com/thumbor/mde_l3lUC4muDP...  2022-01-20T13:23:31Z   \n",
       "1  https://i.kinja-img.com/gawker-media/image/upl...  2022-01-19T12:00:00Z   \n",
       "2  https://static01.nyt.com/images/2022/01/20/nyr...  2022-01-20T19:54:48Z   \n",
       "3  https://s.yimg.com/os/creatr-uploaded-images/2...  2022-01-21T22:57:21Z   \n",
       "4  https://i.kinja-img.com/gawker-media/image/upl...  2022-01-20T12:00:00Z   \n",
       "\n",
       "                                             content  \n",
       "0  In a new blog post the company said that 4,836...  \n",
       "1  Hackers who made off with roughly $15 million ...  \n",
       "2  On some level, the new mayor is simply employi...  \n",
       "3  Back in September\\r\\n, Robinhood announced pla...  \n",
       "4  Trading platform Crypto.com lost about $34 mil...  "
      ]
     },
     "execution_count": 45,
     "metadata": {},
     "output_type": "execute_result"
    }
   ],
   "source": [
    "# Create the Ethereum sentiment scores DataFrame\n",
    "eth_df = pd.DataFrame.from_dict(eth_headlines[\"articles\"])\n",
    "\n",
    "eth_df.head()"
   ]
  },
  {
   "cell_type": "code",
   "execution_count": 36,
   "metadata": {},
   "outputs": [],
   "source": [
    "# Describe the Bitcoin Sentiment\n",
    "# The bitcoin sentiment is neutral with with some positive positive scores"
   ]
  },
  {
   "cell_type": "code",
   "execution_count": 37,
   "metadata": {},
   "outputs": [],
   "source": [
    "# Describe the Ethereum Sentiment\n",
    "# The sentiment analysis of eth is neutral with little positive scores "
   ]
  },
  {
   "cell_type": "markdown",
   "metadata": {},
   "source": [
    "### Questions:\n",
    "\n",
    "Q: Which coin had the highest mean positive score?\n",
    "\n",
    "A: ETH\n",
    "\n",
    "Q: Which coin had the highest compound score?\n",
    "\n",
    "A: BTC\n",
    "\n",
    "Q. Which coin had the highest positive score?\n",
    "\n",
    "A: BTC"
   ]
  },
  {
   "cell_type": "markdown",
   "metadata": {},
   "source": [
    "---"
   ]
  },
  {
   "cell_type": "markdown",
   "metadata": {},
   "source": [
    "## 2. Natural Language Processing\n",
    "---\n",
    "###   Tokenizer\n",
    "\n",
    "In this section, you will use NLTK and Python to tokenize the text for each coin. Be sure to:\n",
    "1. Lowercase each word.\n",
    "2. Remove Punctuation.\n",
    "3. Remove Stopwords."
   ]
  },
  {
   "cell_type": "code",
   "execution_count": 38,
   "metadata": {},
   "outputs": [],
   "source": [
    "from nltk.tokenize import word_tokenize, sent_tokenize\n",
    "from nltk.corpus import stopwords\n",
    "from nltk.stem import WordNetLemmatizer, PorterStemmer\n",
    "from string import punctuation\n",
    "import re"
   ]
  },
  {
   "cell_type": "code",
   "execution_count": 57,
   "metadata": {},
   "outputs": [
    {
     "name": "stdout",
     "output_type": "stream",
     "text": [
      "                                      source  \\\n",
      "0   {'id': 'the-verge', 'name': 'The Verge'}   \n",
      "1        {'id': None, 'name': 'Gizmodo.com'}   \n",
      "2     {'id': None, 'name': 'New York Times'}   \n",
      "3     {'id': 'engadget', 'name': 'Engadget'}   \n",
      "4        {'id': None, 'name': 'Gizmodo.com'}   \n",
      "..                                       ...   \n",
      "95           {'id': None, 'name': 'Due.com'}   \n",
      "96         {'id': None, 'name': 'ReadWrite'}   \n",
      "97      {'id': None, 'name': 'Techmeme.com'}   \n",
      "98      {'id': None, 'name': 'Slashdot.org'}   \n",
      "99       {'id': None, 'name': 'Motley Fool'}   \n",
      "\n",
      "                                               author  \\\n",
      "0                                         Corin Faife   \n",
      "1                                          Matt Novak   \n",
      "2   Dana Rubinstein, Jonah E. Bromwich and Jeffery...   \n",
      "3                                      Igor Bonifacic   \n",
      "4                                          Matt Novak   \n",
      "..                                                ...   \n",
      "95                                     Deanna Ritchie   \n",
      "96                                         Linda John   \n",
      "97                                               None   \n",
      "98                                             msmash   \n",
      "99              newsfeedback@fool.com (Rick Munarriz)   \n",
      "\n",
      "                                                title  \\\n",
      "0   Crypto.com admits over $30 million stolen by h...   \n",
      "1   Hackers Launder $15 Million Stolen From Crypto...   \n",
      "2   Eric Adams Is Taking His First Paycheck in Crypto   \n",
      "3   Robinhood opens cryptocurrency wallet to beta ...   \n",
      "4   Crypto.com Finally Acknowledges $34 Million St...   \n",
      "..                                                ...   \n",
      "95           What Could Halt Cryptocurrency Momentum?   \n",
      "96  Comprehensive and detailed study on NFT Stream...   \n",
      "97  Tether says it froze three Ethereum blockchain...   \n",
      "98          Opera Launches a Dedicated Crypto Browser   \n",
      "99                         Can Ethereum Reach $5,000?   \n",
      "\n",
      "                                          description  \\\n",
      "0   Cryptocurrency exchange Crypto.com has said th...   \n",
      "1   Hackers who made off with roughly $15 million ...   \n",
      "2   Mr. Adams, who wants New York City to become t...   \n",
      "3   Back in September\\r\\n, Robinhood announced pla...   \n",
      "4   Trading platform Crypto.com lost about $34 mil...   \n",
      "..                                                ...   \n",
      "95  Millions of investors, speculators, and crypto...   \n",
      "96  The digital world is a great contributor to ma...   \n",
      "97  Helene Braun / CoinDesk:\\nTether says it froze...   \n",
      "98  Opera has launched its Web3 \"Crypto Browser\" i...   \n",
      "99  The cryptocurrency almost hit $5,000 two month...   \n",
      "\n",
      "                                                  url  \\\n",
      "0   https://www.theverge.com/2022/1/20/22892958/cr...   \n",
      "1   https://gizmodo.com/hackers-launder-15-million...   \n",
      "2   https://www.nytimes.com/2022/01/20/nyregion/er...   \n",
      "3   https://www.engadget.com/robinhood-cryptocurre...   \n",
      "4   https://gizmodo.com/crypto-com-finally-acknowl...   \n",
      "..                                                ...   \n",
      "95      https://due.com/blog/cryptocurrency-momentum/   \n",
      "96  https://readwrite.com/2022/01/05/comprehensive...   \n",
      "97                 https://www.techmeme.com/220114/p1   \n",
      "98  https://slashdot.org/story/22/01/19/1610249/op...   \n",
      "99  https://www.fool.com/investing/2022/01/19/can-...   \n",
      "\n",
      "                                           urlToImage           publishedAt  \\\n",
      "0   https://cdn.vox-cdn.com/thumbor/mde_l3lUC4muDP...  2022-01-20T13:23:31Z   \n",
      "1   https://i.kinja-img.com/gawker-media/image/upl...  2022-01-19T12:00:00Z   \n",
      "2   https://static01.nyt.com/images/2022/01/20/nyr...  2022-01-20T19:54:48Z   \n",
      "3   https://s.yimg.com/os/creatr-uploaded-images/2...  2022-01-21T22:57:21Z   \n",
      "4   https://i.kinja-img.com/gawker-media/image/upl...  2022-01-20T12:00:00Z   \n",
      "..                                                ...                   ...   \n",
      "95  https://assets.entrepreneur.com/providers/due/...  2022-01-13T21:15:09Z   \n",
      "96  https://images.readwrite.com/wp-content/upload...  2022-01-05T17:01:01Z   \n",
      "97  https://www.coindesk.com/resizer/6mKy47WKjgO_Y...  2022-01-14T07:20:00Z   \n",
      "98          https://a.fsdn.com/sd/topics/opera_64.png  2022-01-19T16:10:00Z   \n",
      "99  https://g.foolcdn.com/editorial/images/661957/...  2022-01-19T16:15:00Z   \n",
      "\n",
      "                                              content  \n",
      "0   In a new blog post the company said that 4,836...  \n",
      "1   Hackers who made off with roughly $15 million ...  \n",
      "2   On some level, the new mayor is simply employi...  \n",
      "3   Back in September\\r\\n, Robinhood announced pla...  \n",
      "4   Trading platform Crypto.com lost about $34 mil...  \n",
      "..                                                ...  \n",
      "95  Millions of investors, speculators, and crypto...  \n",
      "96  The digital world is a great contributor to ma...  \n",
      "97  Big Technology— by Alex Kantrowitz\\r\\nRevealin...  \n",
      "98  The Fine Print: The following comments are own...  \n",
      "99  Two months ago, it seemed inevitable that Ethe...  \n",
      "\n",
      "[100 rows x 8 columns]\n",
      "['articles']\n"
     ]
    }
   ],
   "source": [
    "# Instantiate the lemmatizer\n",
    "lemmatizer = WordNetLemmatizer()\n",
    "\n",
    "# Create a list of stopwords\n",
    "sentence = pd.DataFrame.from_dict(eth_headlines[\"articles\"])\n",
    "print(sentence)\n",
    "words = word_tokenize('articles')\n",
    "print(words)\n",
    "sw = set(stopwords.words('english'))\n",
    "first_result = [word.lower() for word in words if word.lower() not in sw]\n",
    "\n",
    "# Expand the default stopwords list if necessary\n",
    "sw_addon = {'about', 'to', 'form', 'the', 'and', 'said', 'for', 'that', 'their', 'there', 'it'}\n",
    "second_result = [word.lower() for word in words if word.lower() not in sw.union(sw_addon)]"
   ]
  },
  {
   "cell_type": "code",
   "execution_count": 71,
   "metadata": {
    "collapsed": true,
    "jupyter": {
     "outputs_hidden": true
    },
    "tags": []
   },
   "outputs": [
    {
     "ename": "SyntaxError",
     "evalue": "invalid syntax (<ipython-input-71-bdba13019265>, line 2)",
     "output_type": "error",
     "traceback": [
      "\u001b[1;36m  File \u001b[1;32m\"<ipython-input-71-bdba13019265>\"\u001b[1;36m, line \u001b[1;32m2\u001b[0m\n\u001b[1;33m    def clean_text('articles'):\u001b[0m\n\u001b[1;37m                   ^\u001b[0m\n\u001b[1;31mSyntaxError\u001b[0m\u001b[1;31m:\u001b[0m invalid syntax\n"
     ]
    }
   ],
   "source": [
    "# Complete the `clean_text` function\n",
    "def clean_text(articles):\n",
    "    \n",
    "    # Define a set of stopwords using `stopwords.words()`\n",
    "    sw = set(stopwords.words('english'))\n",
    "\n",
    "    # Define the regex parameters\n",
    "    regex = re.compile(\"[^a-zA-Z ]\")\n",
    "\n",
    "    # Apply regex parameters to article\n",
    "    re_clean = regex.sub('', articles)\n",
    "\n",
    "    # Apply `word_tokenize` to the regex scrubbed text\n",
    "    words = word_tokenize(re_clean)\n",
    "\n",
    "    # Create list of lower-case words that are not in the stopword set\n",
    "    output = [word.lower() for word in words if word.lower() not in sw]\n",
    "    \n",
    "    # Return the final list\n",
    "    return output"
   ]
  },
  {
   "cell_type": "code",
   "execution_count": 70,
   "metadata": {
    "collapsed": true,
    "jupyter": {
     "outputs_hidden": true
    },
    "tags": []
   },
   "outputs": [
    {
     "ename": "NameError",
     "evalue": "name 'articles' is not defined",
     "output_type": "error",
     "traceback": [
      "\u001b[1;31m---------------------------------------------------------------------------\u001b[0m",
      "\u001b[1;31mNameError\u001b[0m                                 Traceback (most recent call last)",
      "\u001b[1;32m<ipython-input-70-89b55e180181>\u001b[0m in \u001b[0;36m<module>\u001b[1;34m\u001b[0m\n\u001b[1;32m----> 1\u001b[1;33m \u001b[0mresult\u001b[0m \u001b[1;33m=\u001b[0m \u001b[0mclean_text\u001b[0m\u001b[1;33m(\u001b[0m\u001b[0marticles\u001b[0m\u001b[1;33m)\u001b[0m\u001b[1;33m\u001b[0m\u001b[1;33m\u001b[0m\u001b[0m\n\u001b[0m",
      "\u001b[1;31mNameError\u001b[0m: name 'articles' is not defined"
     ]
    }
   ],
   "source": [
    "result = clean_text(articles)"
   ]
  },
  {
   "cell_type": "code",
   "execution_count": null,
   "metadata": {},
   "outputs": [],
   "source": [
    "# Complete the tokenizer function\n",
    "def tokenizer(text):\n",
    "    \"\"\"Tokenizes text.\"\"\"\n",
    "    \n",
    "    # Remove the punctuation from text\n",
    "\n",
    "   \n",
    "    # Create a tokenized list of the words\n",
    "    \n",
    "    \n",
    "    # Lemmatize words into root words\n",
    "\n",
    "   \n",
    "    # Convert the words to lowercase\n",
    "    \n",
    "    \n",
    "    # Remove the stop words\n",
    "    \n",
    "    \n",
    "    return tokens"
   ]
  },
  {
   "cell_type": "code",
   "execution_count": null,
   "metadata": {},
   "outputs": [],
   "source": [
    "# Create a new tokens column for Bitcoin\n",
    "# YOUR CODE HERE!"
   ]
  },
  {
   "cell_type": "code",
   "execution_count": null,
   "metadata": {},
   "outputs": [],
   "source": [
    "# Create a new tokens column for Ethereum\n",
    "# YOUR CODE HERE!"
   ]
  },
  {
   "cell_type": "markdown",
   "metadata": {},
   "source": [
    "---"
   ]
  },
  {
   "cell_type": "markdown",
   "metadata": {},
   "source": [
    "### NGrams and Frequency Analysis\n",
    "\n",
    "In this section you will look at the ngrams and word frequency for each coin. \n",
    "\n",
    "1. Use NLTK to produce the n-grams for N = 2. \n",
    "2. List the top 10 words for each coin. "
   ]
  },
  {
   "cell_type": "code",
   "execution_count": null,
   "metadata": {},
   "outputs": [],
   "source": [
    "from collections import Counter\n",
    "from nltk import ngrams"
   ]
  },
  {
   "cell_type": "code",
   "execution_count": null,
   "metadata": {},
   "outputs": [],
   "source": [
    "# Generate the Bitcoin N-grams where N=2\n",
    "# YOUR CODE HERE!"
   ]
  },
  {
   "cell_type": "code",
   "execution_count": null,
   "metadata": {},
   "outputs": [],
   "source": [
    "# Generate the Ethereum N-grams where N=2\n",
    "# YOUR CODE HERE!"
   ]
  },
  {
   "cell_type": "code",
   "execution_count": null,
   "metadata": {},
   "outputs": [],
   "source": [
    "# Function token_count generates the top 10 words for a given coin\n",
    "def token_count(tokens, N=3):\n",
    "    \"\"\"Returns the top N tokens from the frequency count\"\"\"\n",
    "    return Counter(tokens).most_common(N)"
   ]
  },
  {
   "cell_type": "code",
   "execution_count": null,
   "metadata": {},
   "outputs": [],
   "source": [
    "# Use token_count to get the top 10 words for Bitcoin\n",
    "# YOUR CODE HERE!"
   ]
  },
  {
   "cell_type": "code",
   "execution_count": null,
   "metadata": {},
   "outputs": [],
   "source": [
    "# Use token_count to get the top 10 words for Ethereum\n",
    "# YOUR CODE HERE!"
   ]
  },
  {
   "cell_type": "markdown",
   "metadata": {},
   "source": [
    "---"
   ]
  },
  {
   "cell_type": "markdown",
   "metadata": {},
   "source": [
    "### Word Clouds\n",
    "\n",
    "In this section, you will generate word clouds for each coin to summarize the news for each coin"
   ]
  },
  {
   "cell_type": "code",
   "execution_count": null,
   "metadata": {},
   "outputs": [],
   "source": [
    "from wordcloud import WordCloud\n",
    "import matplotlib.pyplot as plt\n",
    "plt.style.use('seaborn-whitegrid')\n",
    "import matplotlib as mpl\n",
    "mpl.rcParams['figure.figsize'] = [20.0, 10.0]"
   ]
  },
  {
   "cell_type": "code",
   "execution_count": null,
   "metadata": {},
   "outputs": [],
   "source": [
    "# Generate the Bitcoin word cloud\n",
    "# YOUR CODE HERE!"
   ]
  },
  {
   "cell_type": "code",
   "execution_count": null,
   "metadata": {},
   "outputs": [],
   "source": [
    "# Generate the Ethereum word cloud\n",
    "# YOUR CODE HERE!"
   ]
  },
  {
   "cell_type": "markdown",
   "metadata": {},
   "source": [
    "---\n",
    "## 3. Named Entity Recognition\n",
    "\n",
    "In this section, you will build a named entity recognition model for both Bitcoin and Ethereum, then visualize the tags using SpaCy."
   ]
  },
  {
   "cell_type": "code",
   "execution_count": null,
   "metadata": {},
   "outputs": [],
   "source": [
    "import spacy\n",
    "from spacy import displacy"
   ]
  },
  {
   "cell_type": "code",
   "execution_count": null,
   "metadata": {},
   "outputs": [],
   "source": [
    "# Download the language model for SpaCy\n",
    "# !python -m spacy download en_core_web_sm"
   ]
  },
  {
   "cell_type": "code",
   "execution_count": null,
   "metadata": {},
   "outputs": [],
   "source": [
    "# Load the spaCy model\n",
    "nlp = spacy.load('en_core_web_sm')"
   ]
  },
  {
   "cell_type": "markdown",
   "metadata": {},
   "source": [
    "---\n",
    "### Bitcoin NER"
   ]
  },
  {
   "cell_type": "code",
   "execution_count": null,
   "metadata": {},
   "outputs": [],
   "source": [
    "# Concatenate all of the Bitcoin text together\n",
    "# YOUR CODE HERE!"
   ]
  },
  {
   "cell_type": "code",
   "execution_count": null,
   "metadata": {},
   "outputs": [],
   "source": [
    "# Run the NER processor on all of the text\n",
    "# YOUR CODE HERE!\n",
    "\n",
    "# Add a title to the document\n",
    "# YOUR CODE HERE!"
   ]
  },
  {
   "cell_type": "code",
   "execution_count": null,
   "metadata": {},
   "outputs": [],
   "source": [
    "# Render the visualization\n",
    "# YOUR CODE HERE!"
   ]
  },
  {
   "cell_type": "code",
   "execution_count": null,
   "metadata": {},
   "outputs": [],
   "source": [
    "# List all Entities\n",
    "# YOUR CODE HERE!"
   ]
  },
  {
   "cell_type": "markdown",
   "metadata": {},
   "source": [
    "---"
   ]
  },
  {
   "cell_type": "markdown",
   "metadata": {},
   "source": [
    "### Ethereum NER"
   ]
  },
  {
   "cell_type": "code",
   "execution_count": null,
   "metadata": {},
   "outputs": [],
   "source": [
    "# Concatenate all of the Ethereum text together\n",
    "# YOUR CODE HERE!"
   ]
  },
  {
   "cell_type": "code",
   "execution_count": null,
   "metadata": {},
   "outputs": [],
   "source": [
    "# Run the NER processor on all of the text\n",
    "# YOUR CODE HERE!\n",
    "\n",
    "# Add a title to the document\n",
    "# YOUR CODE HERE!"
   ]
  },
  {
   "cell_type": "code",
   "execution_count": null,
   "metadata": {},
   "outputs": [],
   "source": [
    "# Render the visualization\n",
    "# YOUR CODE HERE!"
   ]
  },
  {
   "cell_type": "code",
   "execution_count": null,
   "metadata": {},
   "outputs": [],
   "source": [
    "# List all Entities\n",
    "# YOUR CODE HERE!"
   ]
  },
  {
   "cell_type": "markdown",
   "metadata": {},
   "source": [
    "---"
   ]
  }
 ],
 "metadata": {
  "file_extension": ".py",
  "kernelspec": {
   "display_name": "Python 3",
   "language": "python",
   "name": "python3"
  },
  "language_info": {
   "codemirror_mode": {
    "name": "ipython",
    "version": 3
   },
   "file_extension": ".py",
   "mimetype": "text/x-python",
   "name": "python",
   "nbconvert_exporter": "python",
   "pygments_lexer": "ipython3",
   "version": "3.8.8"
  },
  "mimetype": "text/x-python",
  "name": "python",
  "npconvert_exporter": "python",
  "pygments_lexer": "ipython3",
  "version": 3
 },
 "nbformat": 4,
 "nbformat_minor": 4
}
