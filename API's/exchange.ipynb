{
 "cells": [
  {
   "cell_type": "code",
   "execution_count": 1,
   "id": "03d90171-08ab-4814-9d82-94371f870192",
   "metadata": {},
   "outputs": [],
   "source": [
    "# Import libraries and dependencies\n",
    "#import pandas as pd\n",
    "#import ccxt\n",
    "#import os\n",
    "#from pathlib import Path\n",
    "#from dotenv import load_dotenv"
   ]
  },
  {
   "cell_type": "code",
   "execution_count": 2,
   "id": "16e104a4-aecb-4ae2-93ef-e64ba6490c82",
   "metadata": {},
   "outputs": [
    {
     "name": "stdout",
     "output_type": "stream",
     "text": [
      "Requirement already satisfied: python-dotenv in c:\\users\\rlkee\\anaconda3\\envs\\algo_env\\lib\\site-packages (0.19.2)\n"
     ]
    }
   ],
   "source": [
    "# !pip install python-dotenv"
   ]
  },
  {
   "cell_type": "code",
   "execution_count": 3,
   "id": "38e0b459-26e5-4ea4-b800-75be0a12c49b",
   "metadata": {},
   "outputs": [
    {
     "data": {
      "text/plain": [
       "True"
      ]
     },
     "execution_count": 3,
     "metadata": {},
     "output_type": "execute_result"
    }
   ],
   "source": [
    "# load_dotenv()"
   ]
  },
  {
   "cell_type": "code",
   "execution_count": 5,
   "id": "da99ad1f-20ac-4ecd-8e8c-64e37fbe25e5",
   "metadata": {},
   "outputs": [],
   "source": [
    "# Read the API key"
   ]
  },
  {
   "cell_type": "code",
   "execution_count": 6,
   "id": "ef198f51-ce42-49be-9494-0d3f564d50d1",
   "metadata": {},
   "outputs": [],
   "source": [
    "# Read the Broker Secret Key"
   ]
  },
  {
   "cell_type": "code",
   "execution_count": 7,
   "id": "c4593687-ffba-4fc8-8f97-9e15657ef12c",
   "metadata": {},
   "outputs": [],
   "source": [
    "# <exchange> = ccxt.exchange({'verbose': True})"
   ]
  },
  {
   "cell_type": "code",
   "execution_count": 8,
   "id": "443d4260-3e02-4e41-8763-a4aaf42d703b",
   "metadata": {},
   "outputs": [],
   "source": [
    "# <exchange> = ccxt.<exchange>({\n",
    "#    'apiKey': <key>\n",
    "#    'secret': <secret_key>,\n",
    "# })"
   ]
  },
  {
   "cell_type": "code",
   "execution_count": null,
   "id": "84f1bc60-da8d-49f0-b5ec-25906f72a16c",
   "metadata": {},
   "outputs": [],
   "source": [
    "# len(<exchange>.fetch_ticker(\"BTC/USDT\"))"
   ]
  },
  {
   "cell_type": "code",
   "execution_count": null,
   "id": "57025efd-fd91-4cc5-b873-7a9c83c06960",
   "metadata": {},
   "outputs": [],
   "source": [
    "#for k,v in mexc.currencies.items():\n",
    "    #print(k)\n",
    "    #print(v.values())\n",
    "    #print(\"__________________\")"
   ]
  }
 ],
 "metadata": {
  "kernelspec": {
   "display_name": "Python 3 (ipykernel)",
   "language": "python",
   "name": "python3"
  },
  "language_info": {
   "codemirror_mode": {
    "name": "ipython",
    "version": 3
   },
   "file_extension": ".py",
   "mimetype": "text/x-python",
   "name": "python",
   "nbconvert_exporter": "python",
   "pygments_lexer": "ipython3",
   "version": "3.7.11"
  }
 },
 "nbformat": 4,
 "nbformat_minor": 5
}
